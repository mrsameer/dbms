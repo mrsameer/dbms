{
  "nbformat": 4,
  "nbformat_minor": 0,
  "metadata": {
    "colab": {
      "name": "emaildb.ipynb",
      "provenance": []
    },
    "kernelspec": {
      "name": "python3",
      "display_name": "Python 3"
    }
  },
  "cells": [
    {
      "cell_type": "code",
      "metadata": {
        "id": "9wes7AQ-TA8B",
        "colab_type": "code",
        "colab": {}
      },
      "source": [
        "import sqlite3"
      ],
      "execution_count": 1,
      "outputs": []
    },
    {
      "cell_type": "code",
      "metadata": {
        "id": "bXWh4q-zTGo0",
        "colab_type": "code",
        "colab": {}
      },
      "source": [
        "conn = sqlite3.connect('emaildb.sqlite')  # creates the file if not exists and connects if it exists\n",
        "cur = conn.cursor()"
      ],
      "execution_count": 2,
      "outputs": []
    },
    {
      "cell_type": "code",
      "metadata": {
        "id": "tCIHMDNbTZYW",
        "colab_type": "code",
        "colab": {
          "base_uri": "https://localhost:8080/",
          "height": 34
        },
        "outputId": "2a4150a3-7aee-4d9e-eef7-e84ce1601eee"
      },
      "source": [
        "cur.execute('''\n",
        "DROP TABLE IF EXISTS Counts''')"
      ],
      "execution_count": 4,
      "outputs": [
        {
          "output_type": "execute_result",
          "data": {
            "text/plain": [
              "<sqlite3.Cursor at 0x7fdf97114ea0>"
            ]
          },
          "metadata": {
            "tags": []
          },
          "execution_count": 4
        }
      ]
    },
    {
      "cell_type": "code",
      "metadata": {
        "id": "ksP2QUjnT4wh",
        "colab_type": "code",
        "colab": {
          "base_uri": "https://localhost:8080/",
          "height": 34
        },
        "outputId": "d651bd26-c01a-4efc-fa7f-3ac2498a3585"
      },
      "source": [
        "cur.execute('CREATE TABLE Counts (email TEXT, count INTEGER)')"
      ],
      "execution_count": 5,
      "outputs": [
        {
          "output_type": "execute_result",
          "data": {
            "text/plain": [
              "<sqlite3.Cursor at 0x7fdf97114ea0>"
            ]
          },
          "metadata": {
            "tags": []
          },
          "execution_count": 5
        }
      ]
    },
    {
      "cell_type": "code",
      "metadata": {
        "id": "HwjrJM0cZvwp",
        "colab_type": "code",
        "colab": {
          "base_uri": "https://localhost:8080/",
          "height": 34
        },
        "outputId": "c4b53fa6-8838-4e68-ace2-42e6d4850856"
      },
      "source": [
        "fname = input('Enter the filename: ')\n",
        "if(len(fname) < 1): fname = 'mbox-short.txt'\n",
        "fh = open(fname, 'r')\n",
        "for line in fh:\n",
        "  if not line.startswith('From: '):continue\n",
        "  pieces = line.split()\n",
        "  email = pieces[1]\n",
        "  cur.execute('SELECT count FROM Counts WHERE email = ? ', (email,))  # just make sures syntax is correct and everything is ok. \n",
        "  row = cur.fetchone()\n",
        "  if row is None:\n",
        "    cur.execute(\"INSERT INTO Counts (email, count) VALUES (?, 1)\", (email,))\n",
        "  else:\n",
        "    cur.execute(\"UPDATE Counts SET count = count + 1 WHERE email = ?\", (email,))\n",
        "  conn.commit()"
      ],
      "execution_count": 10,
      "outputs": [
        {
          "output_type": "stream",
          "text": [
            "Enter the filename: mbox-short.txt\n"
          ],
          "name": "stdout"
        }
      ]
    },
    {
      "cell_type": "code",
      "metadata": {
        "id": "m0mMIkDkYzKg",
        "colab_type": "code",
        "colab": {}
      },
      "source": [
        "sqlstr = 'SELECT email, count FROM Counts ORDER BY count DESC LIMIT 10'"
      ],
      "execution_count": 11,
      "outputs": []
    },
    {
      "cell_type": "code",
      "metadata": {
        "id": "Ku7D6UZtY4qP",
        "colab_type": "code",
        "colab": {
          "base_uri": "https://localhost:8080/",
          "height": 187
        },
        "outputId": "002aa23e-e6e2-49ff-fe59-c8b85126ab88"
      },
      "source": [
        "for row in cur.execute(sqlstr):\n",
        "  print(str(row[0]), row[1])"
      ],
      "execution_count": 12,
      "outputs": [
        {
          "output_type": "stream",
          "text": [
            "cwen@iupui.edu 5\n",
            "zqian@umich.edu 4\n",
            "david.horwitz@uct.ac.za 4\n",
            "louis@media.berkeley.edu 3\n",
            "gsilver@umich.edu 3\n",
            "stephen.marquard@uct.ac.za 2\n",
            "rjlowe@iupui.edu 2\n",
            "wagnermr@iupui.edu 1\n",
            "antranig@caret.cam.ac.uk 1\n",
            "gopal.ramasammycook@gmail.com 1\n"
          ],
          "name": "stdout"
        }
      ]
    },
    {
      "cell_type": "code",
      "metadata": {
        "id": "kRnwsE4xchHt",
        "colab_type": "code",
        "colab": {}
      },
      "source": [
        ""
      ],
      "execution_count": null,
      "outputs": []
    }
  ]
}