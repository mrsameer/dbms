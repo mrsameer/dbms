{
  "nbformat": 4,
  "nbformat_minor": 0,
  "metadata": {
    "colab": {
      "name": "roster.ipynb",
      "provenance": []
    },
    "kernelspec": {
      "name": "python3",
      "display_name": "Python 3"
    }
  },
  "cells": [
    {
      "cell_type": "code",
      "metadata": {
        "id": "dAECeBguIJN1",
        "colab_type": "code",
        "colab": {}
      },
      "source": [
        "import json \n",
        "import sqlite3"
      ],
      "execution_count": 14,
      "outputs": []
    },
    {
      "cell_type": "code",
      "metadata": {
        "id": "PmSentWhIQOv",
        "colab_type": "code",
        "colab": {}
      },
      "source": [
        "conn = sqlite3.connect('rosterdb.sqlite')\n",
        "cur = conn.cursor()"
      ],
      "execution_count": 15,
      "outputs": []
    },
    {
      "cell_type": "code",
      "metadata": {
        "id": "4-5sfFAbIXfV",
        "colab_type": "code",
        "colab": {
          "base_uri": "https://localhost:8080/",
          "height": 34
        },
        "outputId": "0bda286c-1ea4-47cc-a252-01f2f8c9dd7d"
      },
      "source": [
        "cur.executescript('''\n",
        "DROP TABLE IF EXISTS User;\n",
        "DROP TABLE IF EXISTS Member;\n",
        "DROP TABLE IF EXISTS Course;\n",
        "\n",
        "CREATE TABLE User(\n",
        "  id INTEGER NOT NULL PRIMARY KEY AUTOINCREMENT UNIQUE,\n",
        "  name TEXT UNIQUE\n",
        ");\n",
        "\n",
        "CREATE TABLE Course(\n",
        "  id INTEGER NOT NULL PRIMARY KEY AUTOINCREMENT UNIQUE,\n",
        "  title TEXT UNIQUE\n",
        ");\n",
        "\n",
        "CREATE TABLE Member(\n",
        "  user_id INTEGER, \n",
        "  course_id INTEGER, \n",
        "  role INTEGER, \n",
        "  PRIMARY KEY (User_id, course_id)\n",
        ");\n",
        "''')"
      ],
      "execution_count": 16,
      "outputs": [
        {
          "output_type": "execute_result",
          "data": {
            "text/plain": [
              "<sqlite3.Cursor at 0x7fc6a87a4c70>"
            ]
          },
          "metadata": {
            "tags": []
          },
          "execution_count": 16
        }
      ]
    },
    {
      "cell_type": "code",
      "metadata": {
        "id": "gXP7V6B5JBH1",
        "colab_type": "code",
        "colab": {
          "base_uri": "https://localhost:8080/",
          "height": 34
        },
        "outputId": "1c946352-4ba3-4c7b-80ee-f9521bb3993c"
      },
      "source": [
        "fname = input('Enter the filename: ')\n",
        "if len(fname) < 1:\n",
        "  fname = 'roster_data_sample.json'\n"
      ],
      "execution_count": 17,
      "outputs": [
        {
          "output_type": "stream",
          "text": [
            "Enter the filename: roster_data_sample.json\n"
          ],
          "name": "stdout"
        }
      ]
    },
    {
      "cell_type": "code",
      "metadata": {
        "id": "gRhZyLigJMf7",
        "colab_type": "code",
        "colab": {}
      },
      "source": [
        "str_data = open(fname).read()\n",
        "json_data = json.loads(str_data)"
      ],
      "execution_count": 18,
      "outputs": []
    },
    {
      "cell_type": "code",
      "metadata": {
        "id": "tRQ8-3AZKOqC",
        "colab_type": "code",
        "colab": {
          "base_uri": "https://localhost:8080/",
          "height": 1000
        },
        "outputId": "25207ca4-07d1-428e-a581-bfe2967e1a83"
      },
      "source": [
        "for entry in json_data:\n",
        "  name = entry[0]\n",
        "  title = entry[1]\n",
        "\n",
        "  print((name, title))\n",
        "\n",
        "  cur.execute('''INSERT OR IGNORE INTO User (name) VALUES (?)''', (name, ))\n",
        "  cur.execute('SELECT id FROM User WHERE name = ?', (name, ))\n",
        "  user_id = cur.fetchone()[0]\n",
        "\n",
        "  cur.execute('''INSERT OR IGNORE INTO Course (title) VALUES (?)''', (title, ))\n",
        "  cur.execute('SELECT id FROM Course WHERE title = ?', (title, ))\n",
        "  course_id = cur.fetchone()[0]\n",
        "\n",
        "  cur.execute('INSERT OR REPLACE INTO Member (user_id, course_id) VALUES (?, ?)', (user_id, course_id))\n",
        "  conn.commit()"
      ],
      "execution_count": 19,
      "outputs": [
        {
          "output_type": "stream",
          "text": [
            "('Charley', 'si110')\n",
            "('Mea', 'si110')\n",
            "('Hattie', 'si110')\n",
            "('Lyena', 'si110')\n",
            "('Keziah', 'si110')\n",
            "('Ellyce', 'si110')\n",
            "('Thalia', 'si110')\n",
            "('Meabh', 'si110')\n",
            "('Aria', 'si110')\n",
            "('Reena', 'si110')\n",
            "('Ioannis', 'si110')\n",
            "('Reily', 'si110')\n",
            "('Sidharth', 'si110')\n",
            "('Keiara', 'si110')\n",
            "('Yann', 'si110')\n",
            "('Marykate', 'si110')\n",
            "('Dylan', 'si110')\n",
            "('Kiran', 'si110')\n",
            "('Faizaan', 'si110')\n",
            "('Aneshia', 'si110')\n",
            "('Kamron', 'si110')\n",
            "('Allen', 'si110')\n",
            "('Marshall', 'si110')\n",
            "('Rosa', 'si106')\n",
            "('Nora', 'si106')\n",
            "('Mairin', 'si106')\n",
            "('Zendel', 'si106')\n",
            "('Honie', 'si106')\n",
            "('Betsy', 'si106')\n",
            "('Davie', 'si106')\n",
            "('Larissa', 'si106')\n",
            "('Shaurya', 'si106')\n",
            "('Shania', 'si106')\n",
            "('Sorcha', 'si106')\n",
            "('Jeanna', 'si106')\n",
            "('Temba', 'si106')\n",
            "('Buse', 'si106')\n",
            "('Mohammed', 'si106')\n",
            "('Kayah', 'si106')\n",
            "('Kareena', 'si106')\n",
            "('Dineo', 'si106')\n",
            "('Philippa', 'si106')\n",
            "('Lia', 'si206')\n",
            "('Sharlyn', 'si206')\n",
            "('Linton', 'si206')\n",
            "('Temilade', 'si206')\n",
            "('Areez', 'si206')\n",
            "('MacCartney', 'si206')\n",
            "('Abubakar', 'si206')\n",
            "('Derryn', 'si206')\n",
            "('Elan', 'si206')\n",
            "('Vikki', 'si206')\n",
            "('Anisa', 'si206')\n",
            "('Klevis', 'si206')\n",
            "('Tait', 'si206')\n",
            "('Rhea', 'si206')\n",
            "('Pearsen', 'si206')\n",
            "('Willow', 'si206')\n",
            "('Skye', 'si206')\n",
            "('Caralee', 'si206')\n",
            "('Charlee', 'si206')\n",
            "('Karyn', 'si206')\n",
            "('Elana', 'si206')\n",
            "('Maggie', 'si206')\n",
            "('Eryk', 'si206')\n",
            "('Zulaikha', 'si301')\n",
            "('Elshan', 'si301')\n",
            "('Anastasia', 'si301')\n",
            "('Connar', 'si301')\n",
            "('Anay', 'si301')\n",
            "('Jayla', 'si301')\n",
            "('Cai', 'si301')\n",
            "('Zijie', 'si301')\n",
            "('Riana', 'si301')\n",
            "('Codie', 'si301')\n",
            "('Colette', 'si301')\n",
            "('Lucee', 'si301')\n",
            "('Tatiana', 'si301')\n",
            "('Zhong', 'si301')\n",
            "('Lowri', 'si301')\n",
            "('Maggy', 'si301')\n",
            "('Basher', 'si301')\n",
            "('Tanika', 'si301')\n",
            "('Aria', 'si301')\n",
            "('Belle', 'si301')\n",
            "('Laranya', 'si301')\n",
            "('Dayna', 'si301')\n",
            "('Elleanne', 'si301')\n",
            "('Maanav', 'si310')\n",
            "('Tamta', 'si310')\n",
            "('Frazer', 'si310')\n",
            "('Sacha', 'si310')\n",
            "('Aidan', 'si310')\n",
            "('Abel', 'si310')\n",
            "('Ahtasham', 'si310')\n",
            "('Avinash', 'si310')\n",
            "('Colette', 'si310')\n",
            "('Cohen', 'si310')\n",
            "('Rori', 'si310')\n",
            "('Youer', 'si310')\n",
            "('Jamey', 'si310')\n",
            "('Makenzie', 'si310')\n",
            "('Ida', 'si310')\n",
            "('Alexzander', 'si310')\n",
            "('Kavita', 'si310')\n",
            "('Talia', 'si310')\n",
            "('Anthony', 'si310')\n",
            "('Elona', 'si334')\n",
            "('Inan', 'si334')\n",
            "('Caoilainn', 'si334')\n",
            "('Ainsley', 'si334')\n",
            "('Franciszek', 'si334')\n",
            "('Corrie', 'si334')\n",
            "('Nolan', 'si334')\n",
            "('Makala', 'si334')\n",
            "('Obieluem', 'si334')\n",
            "('Camryn', 'si334')\n",
            "('Honie', 'si334')\n",
            "('Ole', 'si334')\n",
            "('Raine', 'si334')\n",
            "('Tyllor', 'si334')\n",
            "('Diane', 'si334')\n",
            "('Cullen', 'si334')\n",
            "('Taylor', 'si334')\n",
            "('Schekina', 'si334')\n",
            "('Kensey', 'si334')\n",
            "('Zhi', 'si334')\n",
            "('Kiran', 'si334')\n",
            "('Tymoteusz', 'si334')\n",
            "('Windsor', 'si363')\n",
            "('Kashish', 'si363')\n",
            "('Diarmid', 'si363')\n",
            "('Laura', 'si363')\n",
            "('Jaskaran', 'si363')\n",
            "('Presley', 'si363')\n",
            "('Brooklynn', 'si363')\n",
            "('Heddle', 'si363')\n",
            "('Travis', 'si363')\n",
            "('Alx', 'si363')\n",
            "('Airen', 'si363')\n",
            "('Erika', 'si363')\n",
            "('Mackie', 'si363')\n",
            "('Wen', 'si363')\n",
            "('Seaan', 'si363')\n",
            "('Meghan', 'si363')\n",
            "('Ryaan', 'si363')\n",
            "('Imogem', 'si364')\n",
            "('Harlie', 'si364')\n",
            "('Ronnie', 'si364')\n",
            "('Lucca', 'si364')\n",
            "('Shanelle', 'si364')\n",
            "('Ieuan', 'si364')\n",
            "('Anneliese', 'si364')\n",
            "('Simon', 'si364')\n",
            "('Sorche', 'si364')\n",
            "('Nawal', 'si364')\n",
            "('Adelaide', 'si364')\n",
            "('Rhia', 'si364')\n",
            "('Katarzyna', 'si364')\n",
            "('LLeyton', 'si364')\n",
            "('Enzo', 'si364')\n",
            "('Declan', 'si364')\n",
            "('Emelie', 'si364')\n",
            "('Baillie', 'si364')\n",
            "('Shola', 'si364')\n",
            "('Jenna', 'si422')\n",
            "('Miles', 'si422')\n",
            "('Sakina', 'si422')\n",
            "('Melanie', 'si422')\n",
            "('Bailie', 'si422')\n",
            "('Cassy', 'si422')\n",
            "('Nikash', 'si422')\n",
            "('Hebe', 'si422')\n",
            "('Sia', 'si422')\n",
            "('Skyla', 'si422')\n",
            "('Jamaal', 'si422')\n",
            "('Keanna', 'si422')\n",
            "('Vanya', 'si422')\n",
            "('Temperance', 'si422')\n",
            "('Hafiza', 'si422')\n",
            "('Alx', 'si422')\n",
            "('Brigitte', 'si422')\n",
            "('Eliana', 'si422')\n",
            "('Kayden', 'si422')\n",
            "('Man', 'si422')\n",
            "('Jaydyn', 'si422')\n",
            "('Soukina', 'si430')\n",
            "('Stephenjunior', 'si430')\n",
            "('Buddy', 'si430')\n",
            "('Holly', 'si430')\n",
            "('Kamilia', 'si430')\n",
            "('Cassie', 'si430')\n",
            "('Kris', 'si430')\n",
            "('Maia', 'si430')\n",
            "('Abel', 'si430')\n",
            "('Tamika', 'si430')\n",
            "('Deano', 'si430')\n",
            "('Rosa', 'si430')\n",
            "('Georgia', 'si430')\n",
            "('Louie', 'si430')\n",
            "('Kassie', 'si430')\n",
            "('Mutinta', 'si430')\n",
            "('Manwen', 'si430')\n"
          ],
          "name": "stdout"
        }
      ]
    },
    {
      "cell_type": "code",
      "metadata": {
        "id": "E2724Y0tLXoL",
        "colab_type": "code",
        "colab": {}
      },
      "source": [
        ""
      ],
      "execution_count": null,
      "outputs": []
    }
  ]
}