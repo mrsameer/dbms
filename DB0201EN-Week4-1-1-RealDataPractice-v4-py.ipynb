{
 "cells": [
  {
   "cell_type": "markdown",
   "metadata": {},
   "source": [
    "# Introduction\n",
    "\n",
    "This notebook shows how to work with a real world dataset using SQL and Python. In this lab you will:\n",
    "1. Understand the dataset for Chicago Public School level performance \n",
    "1. Store the dataset in an Db2 database on IBM Cloud instance\n",
    "1. Retrieve metadata about tables and columns and query data from mixed case columns\n",
    "1. Solve example problems to practice your SQL skills including using built-in database functions"
   ]
  },
  {
   "cell_type": "markdown",
   "metadata": {},
   "source": [
    "## Chicago Public Schools - Progress Report Cards (2011-2012) \n",
    "\n",
    "The city of Chicago released a dataset showing all school level performance data used to create School Report Cards for the 2011-2012 school year. The dataset is available from the Chicago Data Portal: https://data.cityofchicago.org/Education/Chicago-Public-Schools-Progress-Report-Cards-2011-/9xs2-f89t\n",
    "\n",
    "This dataset includes a large number of metrics. Start by familiarizing yourself with the types of metrics in the database: https://data.cityofchicago.org/api/assets/AAD41A13-BE8A-4E67-B1F5-86E711E09D5F?download=true\n",
    "\n",
    "__NOTE__: Do not download the dataset directly from City of Chicago portal. Instead download a more database friendly version from the link below.\n",
    "Now download a static copy of this database and review some of its contents:\n",
    "https://ibm.box.com/shared/static/f9gjvj1gjmxxzycdhplzt01qtz0s7ew7.csv\n",
    "\n"
   ]
  },
  {
   "cell_type": "markdown",
   "metadata": {},
   "source": [
    "### Store the dataset in a Table\n",
    "In many cases the dataset to be analyzed is available as a .CSV (comma separated values) file, perhaps on the internet. To analyze the data using SQL, it first needs to be stored in the database.\n",
    "\n",
    "While it is easier to read the dataset into a Pandas dataframe and then PERSIST it into the database as we saw in the previous lab, it results in mapping to default datatypes which may not be optimal for SQL querying. For example a long textual field may map to a CLOB instead of a VARCHAR. \n",
    "\n",
    "Therefore, __it is highly recommended to manually load the table using the database console LOAD tool, as indicated in Week 2 Lab 1 Part II__. The only difference with that lab is that in Step 5 of the instructions you will need to click on create \"(+) New Table\" and specify the name of the table you want to create and then click \"Next\". \n",
    "\n",
    "##### Now open the Db2 console, open the LOAD tool, Select / Drag the .CSV file for the CHICAGO PUBLIC SCHOOLS dataset and load the dataset into a new table called __SCHOOLS__.\n",
    "\n",
    "<a href=\"https://cognitiveclass.ai\"><img src = \"https://ibm.box.com/shared/static/uc4xjh1uxcc78ks1i18v668simioz4es.jpg\"></a>"
   ]
  },
  {
   "cell_type": "markdown",
   "metadata": {},
   "source": [
    "### Connect to the database\n",
    "Let us now load the ipython-sql  extension and establish a connection with the database"
   ]
  },
  {
   "cell_type": "code",
   "execution_count": 1,
   "metadata": {},
   "outputs": [],
   "source": [
    "%load_ext sql"
   ]
  },
  {
   "cell_type": "code",
   "execution_count": 2,
   "metadata": {},
   "outputs": [
    {
     "data": {
      "text/plain": [
       "'Connected: nxv65249@BLUDB'"
      ]
     },
     "execution_count": 2,
     "metadata": {},
     "output_type": "execute_result"
    }
   ],
   "source": [
    "# Enter the connection string for your Db2 on Cloud database instance below\n",
    "# %sql ibm_db_sa://my-username:my-password@my-hostname:my-port/my-db-name\n",
    "%sql ibm_db_sa://"
   ]
  },
  {
   "cell_type": "code",
   "execution_count": 3,
   "metadata": {},
   "outputs": [
    {
     "name": "stdout",
     "output_type": "stream",
     "text": [
      " * ibm_db_sa://nxv65249:***@dashdb-txn-sbox-yp-dal09-08.services.dal.bluemix.net:50000/BLUDB\n"
     ]
    },
    {
     "data": {
      "text/plain": [
       "'Persisted chicago_school_data'"
      ]
     },
     "execution_count": 3,
     "metadata": {},
     "output_type": "execute_result"
    }
   ],
   "source": [
    "import pandas\n",
    "chicago_school_data = pandas.read_csv('https://ibm.box.com/shared/static/f9gjvj1gjmxxzycdhplzt01qtz0s7ew7.csv')\n",
    "%sql PERSIST chicago_school_data"
   ]
  },
  {
   "cell_type": "code",
   "execution_count": 4,
   "metadata": {},
   "outputs": [
    {
     "data": {
      "text/html": [
       "<div>\n",
       "<style scoped>\n",
       "    .dataframe tbody tr th:only-of-type {\n",
       "        vertical-align: middle;\n",
       "    }\n",
       "\n",
       "    .dataframe tbody tr th {\n",
       "        vertical-align: top;\n",
       "    }\n",
       "\n",
       "    .dataframe thead th {\n",
       "        text-align: right;\n",
       "    }\n",
       "</style>\n",
       "<table border=\"1\" class=\"dataframe\">\n",
       "  <thead>\n",
       "    <tr style=\"text-align: right;\">\n",
       "      <th></th>\n",
       "      <th>School ID</th>\n",
       "      <th>NAME_OF_SCHOOL</th>\n",
       "      <th>Elementary, Middle, or High School</th>\n",
       "      <th>Street Address</th>\n",
       "      <th>City</th>\n",
       "      <th>State</th>\n",
       "      <th>ZIP Code</th>\n",
       "      <th>Phone Number</th>\n",
       "      <th>Link</th>\n",
       "      <th>Network Manager</th>\n",
       "      <th>...</th>\n",
       "      <th>Freshman on Track Rate %</th>\n",
       "      <th>X_COORDINATE</th>\n",
       "      <th>Y_COORDINATE</th>\n",
       "      <th>Latitude</th>\n",
       "      <th>Longitude</th>\n",
       "      <th>COMMUNITY_AREA_NUMBER</th>\n",
       "      <th>COMMUNITY_AREA_NAME</th>\n",
       "      <th>Ward</th>\n",
       "      <th>Police District</th>\n",
       "      <th>Location</th>\n",
       "    </tr>\n",
       "  </thead>\n",
       "  <tbody>\n",
       "    <tr>\n",
       "      <th>0</th>\n",
       "      <td>610038</td>\n",
       "      <td>Abraham Lincoln Elementary School</td>\n",
       "      <td>ES</td>\n",
       "      <td>615 W Kemper Pl</td>\n",
       "      <td>Chicago</td>\n",
       "      <td>IL</td>\n",
       "      <td>60614</td>\n",
       "      <td>(773) 534-5720</td>\n",
       "      <td>http://schoolreports.cps.edu/SchoolProgressRep...</td>\n",
       "      <td>Fullerton Elementary Network</td>\n",
       "      <td>...</td>\n",
       "      <td>NDA</td>\n",
       "      <td>1171699.458</td>\n",
       "      <td>1915829.428</td>\n",
       "      <td>41.924497</td>\n",
       "      <td>-87.644522</td>\n",
       "      <td>7</td>\n",
       "      <td>LINCOLN PARK</td>\n",
       "      <td>43</td>\n",
       "      <td>18</td>\n",
       "      <td>(41.92449696, -87.64452163)</td>\n",
       "    </tr>\n",
       "    <tr>\n",
       "      <th>1</th>\n",
       "      <td>610281</td>\n",
       "      <td>Adam Clayton Powell Paideia Community Academy ...</td>\n",
       "      <td>ES</td>\n",
       "      <td>7511 S South Shore Dr</td>\n",
       "      <td>Chicago</td>\n",
       "      <td>IL</td>\n",
       "      <td>60649</td>\n",
       "      <td>(773) 535-6650</td>\n",
       "      <td>http://schoolreports.cps.edu/SchoolProgressRep...</td>\n",
       "      <td>Skyway Elementary Network</td>\n",
       "      <td>...</td>\n",
       "      <td>NDA</td>\n",
       "      <td>1196129.985</td>\n",
       "      <td>1856209.466</td>\n",
       "      <td>41.760324</td>\n",
       "      <td>-87.556736</td>\n",
       "      <td>43</td>\n",
       "      <td>SOUTH SHORE</td>\n",
       "      <td>7</td>\n",
       "      <td>4</td>\n",
       "      <td>(41.76032435, -87.55673627)</td>\n",
       "    </tr>\n",
       "    <tr>\n",
       "      <th>2</th>\n",
       "      <td>610185</td>\n",
       "      <td>Adlai E Stevenson Elementary School</td>\n",
       "      <td>ES</td>\n",
       "      <td>8010 S Kostner Ave</td>\n",
       "      <td>Chicago</td>\n",
       "      <td>IL</td>\n",
       "      <td>60652</td>\n",
       "      <td>(773) 535-2280</td>\n",
       "      <td>http://schoolreports.cps.edu/SchoolProgressRep...</td>\n",
       "      <td>Midway Elementary Network</td>\n",
       "      <td>...</td>\n",
       "      <td>NDA</td>\n",
       "      <td>1148427.165</td>\n",
       "      <td>1851012.215</td>\n",
       "      <td>41.747111</td>\n",
       "      <td>-87.731702</td>\n",
       "      <td>70</td>\n",
       "      <td>ASHBURN</td>\n",
       "      <td>13</td>\n",
       "      <td>8</td>\n",
       "      <td>(41.74711093, -87.73170248)</td>\n",
       "    </tr>\n",
       "    <tr>\n",
       "      <th>3</th>\n",
       "      <td>609993</td>\n",
       "      <td>Agustin Lara Elementary Academy</td>\n",
       "      <td>ES</td>\n",
       "      <td>4619 S Wolcott Ave</td>\n",
       "      <td>Chicago</td>\n",
       "      <td>IL</td>\n",
       "      <td>60609</td>\n",
       "      <td>(773) 535-4389</td>\n",
       "      <td>http://schoolreports.cps.edu/SchoolProgressRep...</td>\n",
       "      <td>Pershing Elementary Network</td>\n",
       "      <td>...</td>\n",
       "      <td>NDA</td>\n",
       "      <td>1164504.290</td>\n",
       "      <td>1873959.199</td>\n",
       "      <td>41.809757</td>\n",
       "      <td>-87.672145</td>\n",
       "      <td>61</td>\n",
       "      <td>NEW CITY</td>\n",
       "      <td>20</td>\n",
       "      <td>9</td>\n",
       "      <td>(41.8097569, -87.6721446)</td>\n",
       "    </tr>\n",
       "    <tr>\n",
       "      <th>4</th>\n",
       "      <td>610513</td>\n",
       "      <td>Air Force Academy High School</td>\n",
       "      <td>HS</td>\n",
       "      <td>3630 S Wells St</td>\n",
       "      <td>Chicago</td>\n",
       "      <td>IL</td>\n",
       "      <td>60609</td>\n",
       "      <td>(773) 535-1590</td>\n",
       "      <td>http://schoolreports.cps.edu/SchoolProgressRep...</td>\n",
       "      <td>Southwest Side High School Network</td>\n",
       "      <td>...</td>\n",
       "      <td>91.8</td>\n",
       "      <td>1175177.622</td>\n",
       "      <td>1880745.126</td>\n",
       "      <td>41.828146</td>\n",
       "      <td>-87.632794</td>\n",
       "      <td>34</td>\n",
       "      <td>ARMOUR SQUARE</td>\n",
       "      <td>11</td>\n",
       "      <td>9</td>\n",
       "      <td>(41.82814609, -87.63279369)</td>\n",
       "    </tr>\n",
       "    <tr>\n",
       "      <th>...</th>\n",
       "      <td>...</td>\n",
       "      <td>...</td>\n",
       "      <td>...</td>\n",
       "      <td>...</td>\n",
       "      <td>...</td>\n",
       "      <td>...</td>\n",
       "      <td>...</td>\n",
       "      <td>...</td>\n",
       "      <td>...</td>\n",
       "      <td>...</td>\n",
       "      <td>...</td>\n",
       "      <td>...</td>\n",
       "      <td>...</td>\n",
       "      <td>...</td>\n",
       "      <td>...</td>\n",
       "      <td>...</td>\n",
       "      <td>...</td>\n",
       "      <td>...</td>\n",
       "      <td>...</td>\n",
       "      <td>...</td>\n",
       "      <td>...</td>\n",
       "    </tr>\n",
       "    <tr>\n",
       "      <th>561</th>\n",
       "      <td>610172</td>\n",
       "      <td>William T Sherman Elementary School</td>\n",
       "      <td>ES</td>\n",
       "      <td>1000 W 52nd St</td>\n",
       "      <td>Chicago</td>\n",
       "      <td>IL</td>\n",
       "      <td>60609</td>\n",
       "      <td>(773) 535-1757</td>\n",
       "      <td>http://schoolreports.cps.edu/SchoolProgressRep...</td>\n",
       "      <td>AUSL Schools</td>\n",
       "      <td>...</td>\n",
       "      <td>NDA</td>\n",
       "      <td>1170500.817</td>\n",
       "      <td>1870373.159</td>\n",
       "      <td>41.799788</td>\n",
       "      <td>-87.650255</td>\n",
       "      <td>61</td>\n",
       "      <td>NEW CITY</td>\n",
       "      <td>16</td>\n",
       "      <td>9</td>\n",
       "      <td>(41.79978772, -87.65025483)</td>\n",
       "    </tr>\n",
       "    <tr>\n",
       "      <th>562</th>\n",
       "      <td>609844</td>\n",
       "      <td>William W Carter Elementary School</td>\n",
       "      <td>ES</td>\n",
       "      <td>5740 S Michigan Ave</td>\n",
       "      <td>Chicago</td>\n",
       "      <td>IL</td>\n",
       "      <td>60637</td>\n",
       "      <td>(773) 535-0860</td>\n",
       "      <td>http://schoolreports.cps.edu/SchoolProgressRep...</td>\n",
       "      <td>Burnham Park Elementary Network</td>\n",
       "      <td>...</td>\n",
       "      <td>NDA</td>\n",
       "      <td>1178101.365</td>\n",
       "      <td>1866810.123</td>\n",
       "      <td>41.789841</td>\n",
       "      <td>-87.622490</td>\n",
       "      <td>40</td>\n",
       "      <td>WASHINGTON PARK</td>\n",
       "      <td>20</td>\n",
       "      <td>2</td>\n",
       "      <td>(41.78984129, -87.62248974)</td>\n",
       "    </tr>\n",
       "    <tr>\n",
       "      <th>563</th>\n",
       "      <td>610088</td>\n",
       "      <td>Wolfgang A Mozart Elementary School</td>\n",
       "      <td>ES</td>\n",
       "      <td>2200 N Hamlin Ave</td>\n",
       "      <td>Chicago</td>\n",
       "      <td>IL</td>\n",
       "      <td>60647</td>\n",
       "      <td>(773) 534-4160</td>\n",
       "      <td>http://schoolreports.cps.edu/SchoolProgressRep...</td>\n",
       "      <td>Fullerton Elementary Network</td>\n",
       "      <td>...</td>\n",
       "      <td>NDA</td>\n",
       "      <td>1150644.396</td>\n",
       "      <td>1914368.955</td>\n",
       "      <td>41.920927</td>\n",
       "      <td>-87.721925</td>\n",
       "      <td>22</td>\n",
       "      <td>LOGAN SQUARE</td>\n",
       "      <td>35</td>\n",
       "      <td>25</td>\n",
       "      <td>(41.92092734, -87.72192541)</td>\n",
       "    </tr>\n",
       "    <tr>\n",
       "      <th>564</th>\n",
       "      <td>609977</td>\n",
       "      <td>Woodlawn Community Elementary School</td>\n",
       "      <td>ES</td>\n",
       "      <td>6657 S Kimbark Ave</td>\n",
       "      <td>Chicago</td>\n",
       "      <td>IL</td>\n",
       "      <td>60637</td>\n",
       "      <td>(773) 535-0801</td>\n",
       "      <td>http://schoolreports.cps.edu/SchoolProgressRep...</td>\n",
       "      <td>Burnham Park Elementary Network</td>\n",
       "      <td>...</td>\n",
       "      <td>NDA</td>\n",
       "      <td>1185825.188</td>\n",
       "      <td>1860883.579</td>\n",
       "      <td>41.773400</td>\n",
       "      <td>-87.594356</td>\n",
       "      <td>42</td>\n",
       "      <td>WOODLAWN</td>\n",
       "      <td>5</td>\n",
       "      <td>3</td>\n",
       "      <td>(41.77339962, -87.59435584)</td>\n",
       "    </tr>\n",
       "    <tr>\n",
       "      <th>565</th>\n",
       "      <td>610392</td>\n",
       "      <td>World Language Academy High School</td>\n",
       "      <td>HS</td>\n",
       "      <td>3120 S Kostner Ave</td>\n",
       "      <td>Chicago</td>\n",
       "      <td>IL</td>\n",
       "      <td>60623</td>\n",
       "      <td>(773) 535-4334</td>\n",
       "      <td>http://schoolreports.cps.edu/SchoolProgressRep...</td>\n",
       "      <td>West Side High School Network</td>\n",
       "      <td>...</td>\n",
       "      <td>76</td>\n",
       "      <td>1147521.302</td>\n",
       "      <td>1883405.128</td>\n",
       "      <td>41.836020</td>\n",
       "      <td>-87.734195</td>\n",
       "      <td>30</td>\n",
       "      <td>SOUTH LAWNDALE</td>\n",
       "      <td>22</td>\n",
       "      <td>10</td>\n",
       "      <td>(41.83601953, -87.73419465)</td>\n",
       "    </tr>\n",
       "  </tbody>\n",
       "</table>\n",
       "<p>566 rows × 78 columns</p>\n",
       "</div>"
      ],
      "text/plain": [
       "     School ID                                     NAME_OF_SCHOOL  \\\n",
       "0       610038                  Abraham Lincoln Elementary School   \n",
       "1       610281  Adam Clayton Powell Paideia Community Academy ...   \n",
       "2       610185                Adlai E Stevenson Elementary School   \n",
       "3       609993                    Agustin Lara Elementary Academy   \n",
       "4       610513                      Air Force Academy High School   \n",
       "..         ...                                                ...   \n",
       "561     610172                William T Sherman Elementary School   \n",
       "562     609844                 William W Carter Elementary School   \n",
       "563     610088                Wolfgang A Mozart Elementary School   \n",
       "564     609977               Woodlawn Community Elementary School   \n",
       "565     610392                 World Language Academy High School   \n",
       "\n",
       "    Elementary, Middle, or High School          Street Address     City State  \\\n",
       "0                                   ES        615 W Kemper Pl   Chicago    IL   \n",
       "1                                   ES  7511 S South Shore Dr   Chicago    IL   \n",
       "2                                   ES     8010 S Kostner Ave   Chicago    IL   \n",
       "3                                   ES     4619 S Wolcott Ave   Chicago    IL   \n",
       "4                                   HS        3630 S Wells St   Chicago    IL   \n",
       "..                                 ...                     ...      ...   ...   \n",
       "561                                 ES         1000 W 52nd St   Chicago    IL   \n",
       "562                                 ES    5740 S Michigan Ave   Chicago    IL   \n",
       "563                                 ES      2200 N Hamlin Ave   Chicago    IL   \n",
       "564                                 ES     6657 S Kimbark Ave   Chicago    IL   \n",
       "565                                 HS     3120 S Kostner Ave   Chicago    IL   \n",
       "\n",
       "     ZIP Code    Phone Number  \\\n",
       "0       60614  (773) 534-5720   \n",
       "1       60649  (773) 535-6650   \n",
       "2       60652  (773) 535-2280   \n",
       "3       60609  (773) 535-4389   \n",
       "4       60609  (773) 535-1590   \n",
       "..        ...             ...   \n",
       "561     60609  (773) 535-1757   \n",
       "562     60637  (773) 535-0860   \n",
       "563     60647  (773) 534-4160   \n",
       "564     60637  (773) 535-0801   \n",
       "565     60623  (773) 535-4334   \n",
       "\n",
       "                                                 Link   \\\n",
       "0    http://schoolreports.cps.edu/SchoolProgressRep...   \n",
       "1    http://schoolreports.cps.edu/SchoolProgressRep...   \n",
       "2    http://schoolreports.cps.edu/SchoolProgressRep...   \n",
       "3    http://schoolreports.cps.edu/SchoolProgressRep...   \n",
       "4    http://schoolreports.cps.edu/SchoolProgressRep...   \n",
       "..                                                 ...   \n",
       "561  http://schoolreports.cps.edu/SchoolProgressRep...   \n",
       "562  http://schoolreports.cps.edu/SchoolProgressRep...   \n",
       "563  http://schoolreports.cps.edu/SchoolProgressRep...   \n",
       "564  http://schoolreports.cps.edu/SchoolProgressRep...   \n",
       "565  http://schoolreports.cps.edu/SchoolProgressRep...   \n",
       "\n",
       "                        Network Manager  ... Freshman on Track Rate %  \\\n",
       "0          Fullerton Elementary Network  ...                      NDA   \n",
       "1             Skyway Elementary Network  ...                      NDA   \n",
       "2             Midway Elementary Network  ...                      NDA   \n",
       "3           Pershing Elementary Network  ...                      NDA   \n",
       "4    Southwest Side High School Network  ...                     91.8   \n",
       "..                                  ...  ...                      ...   \n",
       "561                        AUSL Schools  ...                      NDA   \n",
       "562     Burnham Park Elementary Network  ...                      NDA   \n",
       "563        Fullerton Elementary Network  ...                      NDA   \n",
       "564     Burnham Park Elementary Network  ...                      NDA   \n",
       "565       West Side High School Network  ...                       76   \n",
       "\n",
       "    X_COORDINATE Y_COORDINATE   Latitude  Longitude COMMUNITY_AREA_NUMBER  \\\n",
       "0    1171699.458  1915829.428  41.924497 -87.644522                     7   \n",
       "1    1196129.985  1856209.466  41.760324 -87.556736                    43   \n",
       "2    1148427.165  1851012.215  41.747111 -87.731702                    70   \n",
       "3    1164504.290  1873959.199  41.809757 -87.672145                    61   \n",
       "4    1175177.622  1880745.126  41.828146 -87.632794                    34   \n",
       "..           ...          ...        ...        ...                   ...   \n",
       "561  1170500.817  1870373.159  41.799788 -87.650255                    61   \n",
       "562  1178101.365  1866810.123  41.789841 -87.622490                    40   \n",
       "563  1150644.396  1914368.955  41.920927 -87.721925                    22   \n",
       "564  1185825.188  1860883.579  41.773400 -87.594356                    42   \n",
       "565  1147521.302  1883405.128  41.836020 -87.734195                    30   \n",
       "\n",
       "    COMMUNITY_AREA_NAME  Ward Police District                     Location  \n",
       "0          LINCOLN PARK    43              18  (41.92449696, -87.64452163)  \n",
       "1           SOUTH SHORE     7               4  (41.76032435, -87.55673627)  \n",
       "2               ASHBURN    13               8  (41.74711093, -87.73170248)  \n",
       "3              NEW CITY    20               9    (41.8097569, -87.6721446)  \n",
       "4         ARMOUR SQUARE    11               9  (41.82814609, -87.63279369)  \n",
       "..                  ...   ...             ...                          ...  \n",
       "561            NEW CITY    16               9  (41.79978772, -87.65025483)  \n",
       "562     WASHINGTON PARK    20               2  (41.78984129, -87.62248974)  \n",
       "563        LOGAN SQUARE    35              25  (41.92092734, -87.72192541)  \n",
       "564            WOODLAWN     5               3  (41.77339962, -87.59435584)  \n",
       "565      SOUTH LAWNDALE    22              10  (41.83601953, -87.73419465)  \n",
       "\n",
       "[566 rows x 78 columns]"
      ]
     },
     "execution_count": 4,
     "metadata": {},
     "output_type": "execute_result"
    }
   ],
   "source": [
    "chicago_school_data"
   ]
  },
  {
   "cell_type": "markdown",
   "metadata": {},
   "source": [
    "### Query the database system catalog to retrieve table metadata\n",
    "\n",
    "##### You can verify that the table creation was successful by retrieving the list of all tables in your schema and checking whether the SCHOOLS table was created"
   ]
  },
  {
   "cell_type": "code",
   "execution_count": 7,
   "metadata": {},
   "outputs": [
    {
     "name": "stdout",
     "output_type": "stream",
     "text": [
      " * ibm_db_sa://nxv65249:***@dashdb-txn-sbox-yp-dal09-08.services.dal.bluemix.net:50000/BLUDB\n",
      "Done.\n"
     ]
    },
    {
     "data": {
      "text/html": [
       "<table>\n",
       "    <tr>\n",
       "        <th>tabschema</th>\n",
       "        <th>tabname</th>\n",
       "        <th>owner</th>\n",
       "        <th>ownertype</th>\n",
       "        <th>TYPE</th>\n",
       "        <th>status</th>\n",
       "        <th>base_tabschema</th>\n",
       "        <th>base_tabname</th>\n",
       "        <th>rowtypeschema</th>\n",
       "        <th>rowtypename</th>\n",
       "        <th>create_time</th>\n",
       "        <th>alter_time</th>\n",
       "        <th>invalidate_time</th>\n",
       "        <th>stats_time</th>\n",
       "        <th>colcount</th>\n",
       "        <th>tableid</th>\n",
       "        <th>tbspaceid</th>\n",
       "        <th>card</th>\n",
       "        <th>npages</th>\n",
       "        <th>mpages</th>\n",
       "        <th>fpages</th>\n",
       "        <th>npartitions</th>\n",
       "        <th>nfiles</th>\n",
       "        <th>tablesize</th>\n",
       "        <th>overflow</th>\n",
       "        <th>tbspace</th>\n",
       "        <th>index_tbspace</th>\n",
       "        <th>long_tbspace</th>\n",
       "        <th>parents</th>\n",
       "        <th>children</th>\n",
       "        <th>selfrefs</th>\n",
       "        <th>keycolumns</th>\n",
       "        <th>keyindexid</th>\n",
       "        <th>keyunique</th>\n",
       "        <th>checkcount</th>\n",
       "        <th>datacapture</th>\n",
       "        <th>const_checked</th>\n",
       "        <th>pmap_id</th>\n",
       "        <th>partition_mode</th>\n",
       "        <th>log_attribute</th>\n",
       "        <th>pctfree</th>\n",
       "        <th>append_mode</th>\n",
       "        <th>REFRESH</th>\n",
       "        <th>refresh_time</th>\n",
       "        <th>LOCKSIZE</th>\n",
       "        <th>VOLATILE</th>\n",
       "        <th>row_format</th>\n",
       "        <th>property</th>\n",
       "        <th>statistics_profile</th>\n",
       "        <th>compression</th>\n",
       "        <th>rowcompmode</th>\n",
       "        <th>access_mode</th>\n",
       "        <th>clustered</th>\n",
       "        <th>active_blocks</th>\n",
       "        <th>droprule</th>\n",
       "        <th>maxfreespacesearch</th>\n",
       "        <th>avgcompressedrowsize</th>\n",
       "        <th>avgrowcompressionratio</th>\n",
       "        <th>avgrowsize</th>\n",
       "        <th>pctrowscompressed</th>\n",
       "        <th>logindexbuild</th>\n",
       "        <th>codepage</th>\n",
       "        <th>collationschema</th>\n",
       "        <th>collationname</th>\n",
       "        <th>collationschema_orderby</th>\n",
       "        <th>collationname_orderby</th>\n",
       "        <th>encoding_scheme</th>\n",
       "        <th>pctpagessaved</th>\n",
       "        <th>last_regen_time</th>\n",
       "        <th>secpolicyid</th>\n",
       "        <th>protectiongranularity</th>\n",
       "        <th>auditpolicyid</th>\n",
       "        <th>auditpolicyname</th>\n",
       "        <th>auditexceptionenabled</th>\n",
       "        <th>definer</th>\n",
       "        <th>oncommit</th>\n",
       "        <th>logged</th>\n",
       "        <th>onrollback</th>\n",
       "        <th>lastused</th>\n",
       "        <th>control</th>\n",
       "        <th>temporaltype</th>\n",
       "        <th>tableorg</th>\n",
       "        <th>extended_row_size</th>\n",
       "        <th>pctextendedrows</th>\n",
       "        <th>remarks</th>\n",
       "    </tr>\n",
       "</table>"
      ],
      "text/plain": [
       "[]"
      ]
     },
     "execution_count": 7,
     "metadata": {},
     "output_type": "execute_result"
    }
   ],
   "source": [
    "# type in your query to retrieve list of all tables in the database for your db2 schema (username)\n",
    "%sql select * from SYSCAT.TABLES where TABNAME = 'chicago_school_data'"
   ]
  },
  {
   "cell_type": "markdown",
   "metadata": {},
   "source": [
    "Double-click __here__ for a hint\n",
    "\n",
    "<!--\n",
    "In Db2 the system catalog table called SYSCAT.TABLES contains the table metadata\n",
    "-->"
   ]
  },
  {
   "cell_type": "markdown",
   "metadata": {},
   "source": [
    "Double-click __here__ for the solution.\n",
    "\n",
    "<!-- Solution:\n",
    "\n",
    "%sql select TABSCHEMA, TABNAME, CREATE_TIME from SYSCAT.TABLES where TABSCHEMA='YOUR-DB2-USERNAME'\n",
    "\n",
    "or, you can retrieve list of all tables where the schema name is not one of the system created ones:\n",
    "\n",
    "%sql select TABSCHEMA, TABNAME, CREATE_TIME from SYSCAT.TABLES \\\n",
    "      where TABSCHEMA not in ('SYSIBM', 'SYSCAT', 'SYSSTAT', 'SYSIBMADM', 'SYSTOOLS', 'SYSPUBLIC')\n",
    "      \n",
    "or, just query for a specifc table that you want to verify exists in the database\n",
    "%sql select * from SYSCAT.TABLES where TABNAME = 'SCHOOLS'\n",
    "\n",
    "-->"
   ]
  },
  {
   "cell_type": "markdown",
   "metadata": {},
   "source": [
    "### Query the database system catalog to retrieve column metadata\n",
    "\n",
    "##### The SCHOOLS table contains a large number of columns. How many columns does this table have?"
   ]
  },
  {
   "cell_type": "code",
   "execution_count": 9,
   "metadata": {},
   "outputs": [
    {
     "name": "stdout",
     "output_type": "stream",
     "text": [
      " * ibm_db_sa://nxv65249:***@dashdb-txn-sbox-yp-dal09-08.services.dal.bluemix.net:50000/BLUDB\n",
      "Done.\n"
     ]
    },
    {
     "data": {
      "text/html": [
       "<table>\n",
       "    <tr>\n",
       "        <th>1</th>\n",
       "    </tr>\n",
       "    <tr>\n",
       "        <td>0</td>\n",
       "    </tr>\n",
       "</table>"
      ],
      "text/plain": [
       "[(Decimal('0'),)]"
      ]
     },
     "execution_count": 9,
     "metadata": {},
     "output_type": "execute_result"
    }
   ],
   "source": [
    "# type in your query to retrieve the number of columns in the SCHOOLS table\n",
    "%sql select count(*) from syscat.columns where tabname = 'chicago_school_data'"
   ]
  },
  {
   "cell_type": "markdown",
   "metadata": {},
   "source": [
    "Double-click __here__ for a hint\n",
    "\n",
    "<!--\n",
    "In Db2 the system catalog table called SYSCAT.COLUMNS contains the column metadata\n",
    "-->"
   ]
  },
  {
   "cell_type": "markdown",
   "metadata": {},
   "source": [
    "Double-click __here__ for the solution.\n",
    "\n",
    "<!-- Solution:\n",
    "\n",
    "%sql select count(*) from SYSCAT.COLUMNS where TABNAME = 'SCHOOLS'\n",
    "\n",
    "-->"
   ]
  },
  {
   "cell_type": "markdown",
   "metadata": {},
   "source": [
    "Now retrieve the the list of columns in SCHOOLS table and their column type (datatype) and length."
   ]
  },
  {
   "cell_type": "code",
   "execution_count": 10,
   "metadata": {},
   "outputs": [
    {
     "name": "stdout",
     "output_type": "stream",
     "text": [
      " * ibm_db_sa://nxv65249:***@dashdb-txn-sbox-yp-dal09-08.services.dal.bluemix.net:50000/BLUDB\n",
      "Done.\n"
     ]
    },
    {
     "data": {
      "text/html": [
       "<table>\n",
       "    <tr>\n",
       "        <th>colname</th>\n",
       "        <th>typename</th>\n",
       "        <th>length</th>\n",
       "    </tr>\n",
       "</table>"
      ],
      "text/plain": [
       "[]"
      ]
     },
     "execution_count": 10,
     "metadata": {},
     "output_type": "execute_result"
    }
   ],
   "source": [
    "# type in your query to retrieve all column names in the SCHOOLS table along with their datatypes and length\n",
    "%sql select COLNAME, TYPENAME, LENGTH from SYSCAT.COLUMNS where TABNAME = 'chicago_school_data';"
   ]
  },
  {
   "cell_type": "markdown",
   "metadata": {},
   "source": [
    "Double-click __here__ for the solution.\n",
    "\n",
    "<!-- Solution:\n",
    "\n",
    "%sql select COLNAME, TYPENAME, LENGTH from SYSCAT.COLUMNS where TABNAME = 'SCHOOLS'\n",
    "\n",
    "or\n",
    "\n",
    "%sql select distinct(NAME), COLTYPE, LENGTH from SYSIBM.SYSCOLUMNS where TBNAME = 'SCHOOLS'\n",
    "\n",
    "-->"
   ]
  },
  {
   "cell_type": "markdown",
   "metadata": {},
   "source": [
    "### Questions\n",
    "1. Is the column name for the \"SCHOOL ID\" attribute in upper or mixed case?\n",
    "1. What is the name of \"Community Area Name\" column in your table? Does it have spaces?\n",
    "1. Are there any columns in whose names the spaces and paranthesis (round brackets) have been replaced by the underscore character \"_\"?"
   ]
  },
  {
   "cell_type": "markdown",
   "metadata": {},
   "source": [
    "## Problems\n",
    "\n",
    "### Problem 1\n",
    "\n",
    "##### How many Elementary Schools are in the dataset?"
   ]
  },
  {
   "cell_type": "code",
   "execution_count": 12,
   "metadata": {},
   "outputs": [
    {
     "name": "stdout",
     "output_type": "stream",
     "text": [
      " * ibm_db_sa://nxv65249:***@dashdb-txn-sbox-yp-dal09-08.services.dal.bluemix.net:50000/BLUDB\n",
      "Done.\n"
     ]
    },
    {
     "data": {
      "text/html": [
       "<table>\n",
       "    <tr>\n",
       "        <th>1</th>\n",
       "    </tr>\n",
       "    <tr>\n",
       "        <td>462</td>\n",
       "    </tr>\n",
       "</table>"
      ],
      "text/plain": [
       "[(Decimal('462'),)]"
      ]
     },
     "execution_count": 12,
     "metadata": {},
     "output_type": "execute_result"
    }
   ],
   "source": [
    "%sql select count(*) from chicago_school_data where \"Elementary, Middle, or High School\" = 'ES';"
   ]
  },
  {
   "cell_type": "markdown",
   "metadata": {},
   "source": [
    "Double-click __here__ for a hint\n",
    "\n",
    "<!--\n",
    "Which column specifies the school type e.g. 'ES', 'MS', 'HS'?\n",
    "-->"
   ]
  },
  {
   "cell_type": "markdown",
   "metadata": {},
   "source": [
    "Double-click __here__ for another hint\n",
    "\n",
    "<!--\n",
    "Does the column name have mixed case, spaces or other special characters?\n",
    "If so, ensure you use double quotes around the \"Name of the Column\"\n",
    "-->"
   ]
  },
  {
   "cell_type": "markdown",
   "metadata": {},
   "source": [
    "Double-click __here__ for the solution.\n",
    "\n",
    "<!-- Solution:\n",
    "\n",
    "%sql select count(*) from SCHOOLS where \"Elementary, Middle, or High School\" = 'ES'\n",
    "\n",
    "Correct answer: 462\n",
    "\n",
    "-->"
   ]
  },
  {
   "cell_type": "markdown",
   "metadata": {},
   "source": [
    "### Problem 2\n",
    "\n",
    "##### What is the highest Safety Score?"
   ]
  },
  {
   "cell_type": "code",
   "execution_count": 13,
   "metadata": {},
   "outputs": [
    {
     "name": "stdout",
     "output_type": "stream",
     "text": [
      " * ibm_db_sa://nxv65249:***@dashdb-txn-sbox-yp-dal09-08.services.dal.bluemix.net:50000/BLUDB\n",
      "Done.\n"
     ]
    },
    {
     "data": {
      "text/html": [
       "<table>\n",
       "    <tr>\n",
       "        <th>max_safety</th>\n",
       "    </tr>\n",
       "    <tr>\n",
       "        <td>99.0</td>\n",
       "    </tr>\n",
       "</table>"
      ],
      "text/plain": [
       "[(99.0,)]"
      ]
     },
     "execution_count": 13,
     "metadata": {},
     "output_type": "execute_result"
    }
   ],
   "source": [
    "%sql select max(safety_score) as max_safety from chicago_school_data;"
   ]
  },
  {
   "cell_type": "markdown",
   "metadata": {},
   "source": [
    "Double-click __here__ for a hint\n",
    "\n",
    "<!--\n",
    "Use the MAX() function\n",
    "-->"
   ]
  },
  {
   "cell_type": "markdown",
   "metadata": {},
   "source": [
    "Double-click __here__ for the solution.\n",
    "\n",
    "<!-- Hint:\n",
    "\n",
    "%sql select MAX(Safety_Score) AS MAX_SAFETY_SCORE from SCHOOLS\n",
    "\n",
    "Correct answer: 99\n",
    "-->\n"
   ]
  },
  {
   "cell_type": "markdown",
   "metadata": {},
   "source": [
    "### Problem 3\n",
    "\n",
    "##### Which schools have highest Safety Score?"
   ]
  },
  {
   "cell_type": "code",
   "execution_count": 14,
   "metadata": {},
   "outputs": [
    {
     "name": "stdout",
     "output_type": "stream",
     "text": [
      " * ibm_db_sa://nxv65249:***@dashdb-txn-sbox-yp-dal09-08.services.dal.bluemix.net:50000/BLUDB\n",
      "Done.\n"
     ]
    },
    {
     "data": {
      "text/html": [
       "<table>\n",
       "    <tr>\n",
       "        <th>name_of_school</th>\n",
       "    </tr>\n",
       "    <tr>\n",
       "        <td>Abraham Lincoln Elementary School</td>\n",
       "    </tr>\n",
       "    <tr>\n",
       "        <td>Alexander Graham Bell Elementary School</td>\n",
       "    </tr>\n",
       "    <tr>\n",
       "        <td>Annie Keller Elementary Gifted Magnet School</td>\n",
       "    </tr>\n",
       "    <tr>\n",
       "        <td>Augustus H Burley Elementary School</td>\n",
       "    </tr>\n",
       "    <tr>\n",
       "        <td>Edgar Allan Poe Elementary Classical School</td>\n",
       "    </tr>\n",
       "    <tr>\n",
       "        <td>Edgebrook Elementary School</td>\n",
       "    </tr>\n",
       "    <tr>\n",
       "        <td>Ellen Mitchell Elementary School</td>\n",
       "    </tr>\n",
       "    <tr>\n",
       "        <td>James E McDade Elementary Classical School</td>\n",
       "    </tr>\n",
       "    <tr>\n",
       "        <td>James G Blaine Elementary School</td>\n",
       "    </tr>\n",
       "    <tr>\n",
       "        <td>LaSalle Elementary Language Academy</td>\n",
       "    </tr>\n",
       "    <tr>\n",
       "        <td>Mary E Courtenay Elementary Language Arts Center</td>\n",
       "    </tr>\n",
       "    <tr>\n",
       "        <td>Northside College Preparatory High School</td>\n",
       "    </tr>\n",
       "    <tr>\n",
       "        <td>Northside Learning Center High School</td>\n",
       "    </tr>\n",
       "    <tr>\n",
       "        <td>Norwood Park Elementary School</td>\n",
       "    </tr>\n",
       "    <tr>\n",
       "        <td>Oriole Park Elementary School</td>\n",
       "    </tr>\n",
       "    <tr>\n",
       "        <td>Sauganash Elementary School</td>\n",
       "    </tr>\n",
       "    <tr>\n",
       "        <td>Stephen Decatur Classical Elementary School</td>\n",
       "    </tr>\n",
       "    <tr>\n",
       "        <td>Talman Elementary School</td>\n",
       "    </tr>\n",
       "    <tr>\n",
       "        <td>Wildwood Elementary School</td>\n",
       "    </tr>\n",
       "</table>"
      ],
      "text/plain": [
       "[('Abraham Lincoln Elementary School',),\n",
       " ('Alexander Graham Bell Elementary School',),\n",
       " ('Annie Keller Elementary Gifted Magnet School',),\n",
       " ('Augustus H Burley Elementary School',),\n",
       " ('Edgar Allan Poe Elementary Classical School',),\n",
       " ('Edgebrook Elementary School',),\n",
       " ('Ellen Mitchell Elementary School',),\n",
       " ('James E McDade Elementary Classical School',),\n",
       " ('James G Blaine Elementary School',),\n",
       " ('LaSalle Elementary Language Academy',),\n",
       " ('Mary E Courtenay Elementary Language Arts Center',),\n",
       " ('Northside College Preparatory High School',),\n",
       " ('Northside Learning Center High School',),\n",
       " ('Norwood Park Elementary School',),\n",
       " ('Oriole Park Elementary School',),\n",
       " ('Sauganash Elementary School',),\n",
       " ('Stephen Decatur Classical Elementary School',),\n",
       " ('Talman Elementary School',),\n",
       " ('Wildwood Elementary School',)]"
      ]
     },
     "execution_count": 14,
     "metadata": {},
     "output_type": "execute_result"
    }
   ],
   "source": [
    "%sql select name_of_school from chicago_school_data where safety_score in (select max(safety_score) as max_safety from chicago_school_data);"
   ]
  }
 ],
 "metadata": {
  "kernelspec": {
   "display_name": "Python",
   "language": "python",
   "name": "conda-env-python-py"
  },
  "language_info": {
   "codemirror_mode": {
    "name": "ipython",
    "version": 3
   },
   "file_extension": ".py",
   "mimetype": "text/x-python",
   "name": "python",
   "nbconvert_exporter": "python",
   "pygments_lexer": "ipython3",
   "version": "3.6.10"
  },
  "widgets": {
   "state": {},
   "version": "1.1.2"
  }
 },
 "nbformat": 4,
 "nbformat_minor": 4
}
